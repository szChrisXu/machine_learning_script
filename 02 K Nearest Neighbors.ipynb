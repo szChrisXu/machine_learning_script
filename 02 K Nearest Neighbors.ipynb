{
 "cells": [
  {
   "cell_type": "markdown",
   "metadata": {},
   "source": [
    "# 数据预处理\n",
    "\n",
    "加载load_iris数据到panda，选择sepal length、sepal width作为可视化特征，示例代码以分类任务为示例"
   ]
  },
  {
   "cell_type": "code",
   "execution_count": 1,
   "metadata": {},
   "outputs": [],
   "source": [
    "from sklearn.datasets import load_iris\n",
    "import pandas as pd"
   ]
  },
  {
   "cell_type": "code",
   "execution_count": 2,
   "metadata": {},
   "outputs": [],
   "source": [
    "col_names = ['sepal length (cm)', 'sepal width (cm)',  'petal length (cm)',  'petal width (cm)']\n",
    "tag_names = ['setosa', 'versicolor', 'virginica']\n",
    "\n",
    "data = load_iris()"
   ]
  },
  {
   "cell_type": "code",
   "execution_count": 3,
   "metadata": {},
   "outputs": [],
   "source": [
    "df = pd.DataFrame(data['data'])\n",
    "df.columns = col_names\n",
    "df['target'] = None\n",
    "for i in range(df.shape[0]):\n",
    "    df.at[i, 'target'] = data['target'][i]"
   ]
  },
  {
   "cell_type": "code",
   "execution_count": 4,
   "metadata": {},
   "outputs": [
    {
     "data": {
      "text/html": [
       "<div>\n",
       "<style scoped>\n",
       "    .dataframe tbody tr th:only-of-type {\n",
       "        vertical-align: middle;\n",
       "    }\n",
       "\n",
       "    .dataframe tbody tr th {\n",
       "        vertical-align: top;\n",
       "    }\n",
       "\n",
       "    .dataframe thead th {\n",
       "        text-align: right;\n",
       "    }\n",
       "</style>\n",
       "<table border=\"1\" class=\"dataframe\">\n",
       "  <thead>\n",
       "    <tr style=\"text-align: right;\">\n",
       "      <th></th>\n",
       "      <th>sepal length (cm)</th>\n",
       "      <th>sepal width (cm)</th>\n",
       "      <th>petal length (cm)</th>\n",
       "      <th>petal width (cm)</th>\n",
       "      <th>target</th>\n",
       "    </tr>\n",
       "  </thead>\n",
       "  <tbody>\n",
       "    <tr>\n",
       "      <th>0</th>\n",
       "      <td>5.1</td>\n",
       "      <td>3.5</td>\n",
       "      <td>1.4</td>\n",
       "      <td>0.2</td>\n",
       "      <td>0</td>\n",
       "    </tr>\n",
       "    <tr>\n",
       "      <th>1</th>\n",
       "      <td>4.9</td>\n",
       "      <td>3.0</td>\n",
       "      <td>1.4</td>\n",
       "      <td>0.2</td>\n",
       "      <td>0</td>\n",
       "    </tr>\n",
       "    <tr>\n",
       "      <th>2</th>\n",
       "      <td>4.7</td>\n",
       "      <td>3.2</td>\n",
       "      <td>1.3</td>\n",
       "      <td>0.2</td>\n",
       "      <td>0</td>\n",
       "    </tr>\n",
       "    <tr>\n",
       "      <th>3</th>\n",
       "      <td>4.6</td>\n",
       "      <td>3.1</td>\n",
       "      <td>1.5</td>\n",
       "      <td>0.2</td>\n",
       "      <td>0</td>\n",
       "    </tr>\n",
       "    <tr>\n",
       "      <th>4</th>\n",
       "      <td>5.0</td>\n",
       "      <td>3.6</td>\n",
       "      <td>1.4</td>\n",
       "      <td>0.2</td>\n",
       "      <td>0</td>\n",
       "    </tr>\n",
       "    <tr>\n",
       "      <th>...</th>\n",
       "      <td>...</td>\n",
       "      <td>...</td>\n",
       "      <td>...</td>\n",
       "      <td>...</td>\n",
       "      <td>...</td>\n",
       "    </tr>\n",
       "    <tr>\n",
       "      <th>145</th>\n",
       "      <td>6.7</td>\n",
       "      <td>3.0</td>\n",
       "      <td>5.2</td>\n",
       "      <td>2.3</td>\n",
       "      <td>2</td>\n",
       "    </tr>\n",
       "    <tr>\n",
       "      <th>146</th>\n",
       "      <td>6.3</td>\n",
       "      <td>2.5</td>\n",
       "      <td>5.0</td>\n",
       "      <td>1.9</td>\n",
       "      <td>2</td>\n",
       "    </tr>\n",
       "    <tr>\n",
       "      <th>147</th>\n",
       "      <td>6.5</td>\n",
       "      <td>3.0</td>\n",
       "      <td>5.2</td>\n",
       "      <td>2.0</td>\n",
       "      <td>2</td>\n",
       "    </tr>\n",
       "    <tr>\n",
       "      <th>148</th>\n",
       "      <td>6.2</td>\n",
       "      <td>3.4</td>\n",
       "      <td>5.4</td>\n",
       "      <td>2.3</td>\n",
       "      <td>2</td>\n",
       "    </tr>\n",
       "    <tr>\n",
       "      <th>149</th>\n",
       "      <td>5.9</td>\n",
       "      <td>3.0</td>\n",
       "      <td>5.1</td>\n",
       "      <td>1.8</td>\n",
       "      <td>2</td>\n",
       "    </tr>\n",
       "  </tbody>\n",
       "</table>\n",
       "<p>150 rows × 5 columns</p>\n",
       "</div>"
      ],
      "text/plain": [
       "     sepal length (cm)  sepal width (cm)  petal length (cm)  petal width (cm)  \\\n",
       "0                  5.1               3.5                1.4               0.2   \n",
       "1                  4.9               3.0                1.4               0.2   \n",
       "2                  4.7               3.2                1.3               0.2   \n",
       "3                  4.6               3.1                1.5               0.2   \n",
       "4                  5.0               3.6                1.4               0.2   \n",
       "..                 ...               ...                ...               ...   \n",
       "145                6.7               3.0                5.2               2.3   \n",
       "146                6.3               2.5                5.0               1.9   \n",
       "147                6.5               3.0                5.2               2.0   \n",
       "148                6.2               3.4                5.4               2.3   \n",
       "149                5.9               3.0                5.1               1.8   \n",
       "\n",
       "    target  \n",
       "0        0  \n",
       "1        0  \n",
       "2        0  \n",
       "3        0  \n",
       "4        0  \n",
       "..     ...  \n",
       "145      2  \n",
       "146      2  \n",
       "147      2  \n",
       "148      2  \n",
       "149      2  \n",
       "\n",
       "[150 rows x 5 columns]"
      ]
     },
     "execution_count": 4,
     "metadata": {},
     "output_type": "execute_result"
    }
   ],
   "source": [
    "df"
   ]
  },
  {
   "cell_type": "code",
   "execution_count": 5,
   "metadata": {
    "scrolled": false
   },
   "outputs": [
    {
     "data": {
      "text/html": [
       "<div>\n",
       "<style scoped>\n",
       "    .dataframe tbody tr th:only-of-type {\n",
       "        vertical-align: middle;\n",
       "    }\n",
       "\n",
       "    .dataframe tbody tr th {\n",
       "        vertical-align: top;\n",
       "    }\n",
       "\n",
       "    .dataframe thead th {\n",
       "        text-align: right;\n",
       "    }\n",
       "</style>\n",
       "<table border=\"1\" class=\"dataframe\">\n",
       "  <thead>\n",
       "    <tr style=\"text-align: right;\">\n",
       "      <th></th>\n",
       "      <th>sepal length (cm)</th>\n",
       "      <th>sepal width (cm)</th>\n",
       "      <th>target</th>\n",
       "    </tr>\n",
       "  </thead>\n",
       "  <tbody>\n",
       "    <tr>\n",
       "      <th>0</th>\n",
       "      <td>5.1</td>\n",
       "      <td>3.5</td>\n",
       "      <td>0</td>\n",
       "    </tr>\n",
       "    <tr>\n",
       "      <th>1</th>\n",
       "      <td>4.9</td>\n",
       "      <td>3.0</td>\n",
       "      <td>0</td>\n",
       "    </tr>\n",
       "    <tr>\n",
       "      <th>2</th>\n",
       "      <td>4.7</td>\n",
       "      <td>3.2</td>\n",
       "      <td>0</td>\n",
       "    </tr>\n",
       "    <tr>\n",
       "      <th>3</th>\n",
       "      <td>4.6</td>\n",
       "      <td>3.1</td>\n",
       "      <td>0</td>\n",
       "    </tr>\n",
       "    <tr>\n",
       "      <th>4</th>\n",
       "      <td>5.0</td>\n",
       "      <td>3.6</td>\n",
       "      <td>0</td>\n",
       "    </tr>\n",
       "    <tr>\n",
       "      <th>...</th>\n",
       "      <td>...</td>\n",
       "      <td>...</td>\n",
       "      <td>...</td>\n",
       "    </tr>\n",
       "    <tr>\n",
       "      <th>95</th>\n",
       "      <td>5.7</td>\n",
       "      <td>3.0</td>\n",
       "      <td>1</td>\n",
       "    </tr>\n",
       "    <tr>\n",
       "      <th>96</th>\n",
       "      <td>5.7</td>\n",
       "      <td>2.9</td>\n",
       "      <td>1</td>\n",
       "    </tr>\n",
       "    <tr>\n",
       "      <th>97</th>\n",
       "      <td>6.2</td>\n",
       "      <td>2.9</td>\n",
       "      <td>1</td>\n",
       "    </tr>\n",
       "    <tr>\n",
       "      <th>98</th>\n",
       "      <td>5.1</td>\n",
       "      <td>2.5</td>\n",
       "      <td>1</td>\n",
       "    </tr>\n",
       "    <tr>\n",
       "      <th>99</th>\n",
       "      <td>5.7</td>\n",
       "      <td>2.8</td>\n",
       "      <td>1</td>\n",
       "    </tr>\n",
       "  </tbody>\n",
       "</table>\n",
       "<p>100 rows × 3 columns</p>\n",
       "</div>"
      ],
      "text/plain": [
       "    sepal length (cm)  sepal width (cm) target\n",
       "0                 5.1               3.5      0\n",
       "1                 4.9               3.0      0\n",
       "2                 4.7               3.2      0\n",
       "3                 4.6               3.1      0\n",
       "4                 5.0               3.6      0\n",
       "..                ...               ...    ...\n",
       "95                5.7               3.0      1\n",
       "96                5.7               2.9      1\n",
       "97                6.2               2.9      1\n",
       "98                5.1               2.5      1\n",
       "99                5.7               2.8      1\n",
       "\n",
       "[100 rows x 3 columns]"
      ]
     },
     "execution_count": 5,
     "metadata": {},
     "output_type": "execute_result"
    }
   ],
   "source": [
    "temp = df[[\"sepal length (cm)\", \"sepal width (cm)\", \"target\"]]\n",
    "temp = temp[temp['target'] < 2]\n",
    "temp"
   ]
  },
  {
   "cell_type": "markdown",
   "metadata": {},
   "source": [
    "随机选择setosa中的一个样本和versicolor中的一个样本,将类标设置为-1，标记为unknown类型"
   ]
  },
  {
   "cell_type": "code",
   "execution_count": 6,
   "metadata": {},
   "outputs": [
    {
     "name": "stdout",
     "output_type": "stream",
     "text": [
      "[13, 66]\n"
     ]
    }
   ],
   "source": [
    "import random\n",
    "\n",
    "test_index = []\n",
    "test_index.append(random.sample (temp[temp[\"target\"]==0].index.values.tolist(), 1)[0])\n",
    "test_index.append(random.sample (temp[temp[\"target\"]==1].index.values.tolist(), 1)[0])\n",
    "\n",
    "print(test_index)\n",
    "\n",
    "for index in test_index:\n",
    "    temp.at[index,\"target\"] = -1"
   ]
  },
  {
   "cell_type": "code",
   "execution_count": 7,
   "metadata": {},
   "outputs": [
    {
     "data": {
      "text/html": [
       "<div>\n",
       "<style scoped>\n",
       "    .dataframe tbody tr th:only-of-type {\n",
       "        vertical-align: middle;\n",
       "    }\n",
       "\n",
       "    .dataframe tbody tr th {\n",
       "        vertical-align: top;\n",
       "    }\n",
       "\n",
       "    .dataframe thead th {\n",
       "        text-align: right;\n",
       "    }\n",
       "</style>\n",
       "<table border=\"1\" class=\"dataframe\">\n",
       "  <thead>\n",
       "    <tr style=\"text-align: right;\">\n",
       "      <th></th>\n",
       "      <th>sepal length (cm)</th>\n",
       "      <th>sepal width (cm)</th>\n",
       "      <th>target</th>\n",
       "    </tr>\n",
       "  </thead>\n",
       "  <tbody>\n",
       "    <tr>\n",
       "      <th>13</th>\n",
       "      <td>4.3</td>\n",
       "      <td>3.0</td>\n",
       "      <td>-1</td>\n",
       "    </tr>\n",
       "    <tr>\n",
       "      <th>66</th>\n",
       "      <td>5.6</td>\n",
       "      <td>3.0</td>\n",
       "      <td>-1</td>\n",
       "    </tr>\n",
       "  </tbody>\n",
       "</table>\n",
       "</div>"
      ],
      "text/plain": [
       "    sepal length (cm)  sepal width (cm) target\n",
       "13                4.3               3.0     -1\n",
       "66                5.6               3.0     -1"
      ]
     },
     "execution_count": 7,
     "metadata": {},
     "output_type": "execute_result"
    }
   ],
   "source": [
    "temp.iloc[test_index,:]"
   ]
  },
  {
   "cell_type": "markdown",
   "metadata": {},
   "source": [
    "# 数据可视化\n",
    "\n",
    "setosa显示为绿色，versicolor显示为红色，virginica显示为蓝色，unknown显示为灰色"
   ]
  },
  {
   "cell_type": "code",
   "execution_count": 8,
   "metadata": {},
   "outputs": [],
   "source": [
    "import matplotlib.pyplot as plt"
   ]
  },
  {
   "cell_type": "code",
   "execution_count": 9,
   "metadata": {},
   "outputs": [
    {
     "data": {
      "image/png": "[encoded data removed]",
      "text/plain": [
       "<Figure size 432x288 with 1 Axes>"
      ]
     },
     "metadata": {
      "needs_background": "light"
     },
     "output_type": "display_data"
    }
   ],
   "source": [
    "setosa = temp[temp['target']==0]\n",
    "versicolor = temp[temp['target']==1]\n",
    "unknown = temp[temp['target']==-1]\n",
    "\n",
    "l1 = plt.scatter(setosa.loc[:,'sepal length (cm)'], setosa.loc[:, 'sepal width (cm)'], c='green')\n",
    "l2 = plt.scatter(versicolor.loc[:,'sepal length (cm)'], versicolor.loc[:, 'sepal width (cm)'], c='red')\n",
    "l3 = plt.scatter(unknown.loc[:,'sepal length (cm)'], unknown.loc[:, 'sepal width (cm)'], c='gray')\n",
    "\n",
    "plt.xlabel('sepal length (cm)')\n",
    "plt.ylabel('sepal width (cm)')\n",
    "\n",
    "plt.legend(handles = [l1, l2, l3], labels = ['setosa', 'versicolor', 'unknown'], loc = 'best')\n",
    "\n",
    "plt.show()  "
   ]
  },
  {
   "cell_type": "markdown",
   "metadata": {},
   "source": [
    "# KNN 算法实现"
   ]
  },
  {
   "cell_type": "code",
   "execution_count": 10,
   "metadata": {},
   "outputs": [],
   "source": [
    "import numpy as np\n",
    "import heapq"
   ]
  },
  {
   "cell_type": "code",
   "execution_count": 11,
   "metadata": {},
   "outputs": [],
   "source": [
    "# kd树节点类\n",
    "class kdNode:\n",
    "    def __init__(self, value, label, dim, left, right):\n",
    "        # 保存特征向量\n",
    "        self.value = value\n",
    "        # 保存类标\n",
    "        self.label = label\n",
    "        # 当前访问特征向量的维度\n",
    "        self.dim = dim\n",
    "        # 左子树\n",
    "        self.left = left\n",
    "        # 右子树\n",
    "        self.right = right\n",
    "        # 要分类的新节点x与该节点的距离\n",
    "        self.nearest_dist = None\n",
    "    \n",
    "    # 最大堆中通过nearest_dist属性进行判定大小\n",
    "    def __lt__(self, other):\n",
    "        return self.nearest_dist < other.nearest_dist"
   ]
  },
  {
   "cell_type": "code",
   "execution_count": 12,
   "metadata": {},
   "outputs": [],
   "source": [
    "# kd树类\n",
    "class kdTree:\n",
    "    def __init__(self, data, label):\n",
    "        # 特征向量的维度总数\n",
    "        self.features_cnt = data.shape[1]\n",
    "        # 递归建立kd树\n",
    "        self.root = self.create(data, label, dim=0)\n",
    "        # 保存与要分类节点的k近邻的节点list\n",
    "        self.k_nearest_nodes = []\n",
    "        # 保存类标\n",
    "        self.classes = list(set(label))\n",
    "    \n",
    "    def create(self, data, label, dim):\n",
    "        # 不能划分返回None\n",
    "        if len(data) == 0:\n",
    "            return None\n",
    "        \n",
    "        # 找到data中的中位数\n",
    "        index_sorted = np.argsort(data[:,dim])\n",
    "        \n",
    "        data_sorted = data[index_sorted]\n",
    "        \n",
    "        label_sorted = label[index_sorted]\n",
    "\n",
    "        mid = len(data_sorted)//2\n",
    "        \n",
    "        # 中位数左边建立左子树\n",
    "        left = self.create(data_sorted[:mid], label_sorted[:mid], (dim+1) % self.features_cnt)\n",
    "        \n",
    "        # 中位数右侧建立右子树\n",
    "        right = self.create(data_sorted[mid+1:], label_sorted[mid+1:], (dim+1) % self.features_cnt)\n",
    "        \n",
    "        # 返回父节点\n",
    "        return kdNode(data_sorted[mid], label_sorted[mid], dim, left, right)\n",
    "    \n",
    "    def find_k_nearest(self, x, k=1, metrix='l2'):\n",
    "        \n",
    "        # mode选择采用范数\n",
    "        if metrix == 'l1':\n",
    "            mode = 1\n",
    "        elif metrix == 'l2':\n",
    "            mode = 2\n",
    "        elif metrix == 'inf':\n",
    "            mode = np.inf\n",
    "        else:\n",
    "            raise Exception(\"the value of metrix did not exit!\")\n",
    "        \n",
    "        # 根据不同维度的大小关系遍历kd树，并保存遍历顺序到栈\n",
    "        nodeStack = []\n",
    "        cur = self.root\n",
    "        while cur != None:\n",
    "            nodeStack.append(cur)\n",
    "            if cur.value[cur.dim] > x[cur.dim]:\n",
    "                cur = cur.left\n",
    "            else:\n",
    "                cur = cur.right\n",
    "        \n",
    "        while len(nodeStack) != 0:\n",
    "            \n",
    "            cur = nodeStack.pop(-1)\n",
    "            \n",
    "            dis = np.linalg.norm(x-cur.value, mode)\n",
    "            cur.nearest_dist = dis\n",
    "            \n",
    "            if len(self.k_nearest_nodes) < k:\n",
    "                # 没找够k个直接入栈\n",
    "                heapq.heappush(self.k_nearest_nodes, cur)\n",
    "                heapq._heapify_max(self.k_nearest_nodes)\n",
    "            else:\n",
    "                # 找够k个后，替换k个中距离最大的\n",
    "                if heapq.nlargest(1, self.k_nearest_nodes)[0].nearest_dist > dis:\n",
    "                    heapq._heapreplace_max(self.k_nearest_nodes, cur)\n",
    "            \n",
    "            # 超球体是否越界，越界则需要到兄弟节点查找是否有更近的（注：更近的不一定存在）\n",
    "            # dis_margin > 0表示 cur.value[cur.dim] > x[cur.dim] 则x应该正在访问左子树\n",
    "            # dis_margin < 0表示 cur.value[cur.dim] < x[cur.dim] 则x应该正在访问右子树\n",
    "            dis_margin = cur.value[cur.dim] - x[cur.dim]\n",
    "            \n",
    "            # 新循环开始后越过根节点，遍历另外一颗子树\n",
    "            if cur == self.root:\n",
    "                cur = cur.right if dis_margin > 0 else cur.left\n",
    "                while cur != None:\n",
    "                    nodeStack.append(cur)\n",
    "                    if cur.value[cur.dim] > x[cur.dim]:\n",
    "                        cur = cur.left\n",
    "                    else:\n",
    "                        cur = cur.right\n",
    "            else:\n",
    "                # 越界但没有越过根节点\n",
    "                if len(self.k_nearest_nodes) <= k or heapq.nlargest(1, self.k_nearest_nodes)[0].nearest_dist > abs(hypersphere_radius):\n",
    "                    if dis_margin < 0:\n",
    "                        if cur.left != None: nodeStack.append(cur.left)\n",
    "                    else:\n",
    "                        if cur.right != None: nodeStack.append(cur.right)\n",
    "        self.k_nearest_nodes = heapq.nsmallest(k, self.k_nearest_nodes)\n",
    "        \n",
    "    def classify(self, x, k):\n",
    "        \n",
    "        kd_tree.find_k_nearest(x, k)\n",
    "        \n",
    "        postive_cnt = 0\n",
    "        negative_cnt = 0\n",
    "\n",
    "        for node in kd_tree.k_nearest_nodes:\n",
    "            if node.label == self.classes[0]:\n",
    "                postive_cnt += 1\n",
    "            else:\n",
    "                negative_cnt += 1\n",
    "            print(node.value, node.label, node.nearest_dist)\n",
    "        \n",
    "        return self.classes[0] if postive_cnt > negative_cnt else self.classes[1]"
   ]
  },
  {
   "cell_type": "code",
   "execution_count": 13,
   "metadata": {},
   "outputs": [
    {
     "data": {
      "text/plain": [
       "((98, 2), (98,))"
      ]
     },
     "execution_count": 13,
     "metadata": {},
     "output_type": "execute_result"
    }
   ],
   "source": [
    "data = np.vstack([setosa.values[:,:2], versicolor.values[:,:2]])\n",
    "label = np.hstack([setosa.values[:,2], versicolor.values[:,2]]).astype('int')\n",
    "data.shape, label.shape"
   ]
  },
  {
   "cell_type": "code",
   "execution_count": 14,
   "metadata": {},
   "outputs": [],
   "source": [
    "kd_tree = kdTree(data, label)\n",
    "test = unknown.loc[:,['sepal length (cm)','sepal width (cm)']].values"
   ]
  },
  {
   "cell_type": "code",
   "execution_count": 15,
   "metadata": {},
   "outputs": [
    {
     "name": "stdout",
     "output_type": "stream",
     "text": [
      "[4.4 3.0] 0 0.10000000000000053\n",
      "[4.4 2.9] 0 0.14142135623730995\n",
      "[4.6 3.1] 0 0.31622776601683783\n",
      "[4.7 3.2] 0 0.4472135954999583\n",
      "[4.6 3.4] 0 0.49999999999999983\n"
     ]
    },
    {
     "data": {
      "text/plain": [
       "0"
      ]
     },
     "execution_count": 15,
     "metadata": {},
     "output_type": "execute_result"
    }
   ],
   "source": [
    "kd_tree.classify(x=test[0], k=5)"
   ]
  },
  {
   "cell_type": "code",
   "execution_count": 16,
   "metadata": {},
   "outputs": [
    {
     "name": "stdout",
     "output_type": "stream",
     "text": [
      "[5.7 3.0] 1 0.10000000000000053\n",
      "[5.4 3.0] 1 0.1999999999999993\n",
      "[5.9 3.0] 1 0.3000000000000007\n",
      "[5.8 2.7] 1 0.3605551275463989\n",
      "[5.8 2.7] 1 0.3605551275463989\n"
     ]
    },
    {
     "data": {
      "text/plain": [
       "1"
      ]
     },
     "execution_count": 16,
     "metadata": {},
     "output_type": "execute_result"
    }
   ],
   "source": [
    "kd_tree.classify(x=test[1], k=5)"
   ]
  },
  {
   "cell_type": "markdown",
   "metadata": {},
   "source": [
    "# sklearn对比"
   ]
  },
  {
   "cell_type": "code",
   "execution_count": 17,
   "metadata": {},
   "outputs": [],
   "source": [
    "from sklearn.neighbors import KNeighborsClassifier"
   ]
  },
  {
   "cell_type": "code",
   "execution_count": 18,
   "metadata": {},
   "outputs": [
    {
     "data": {
      "text/plain": [
       "KNeighborsClassifier()"
      ]
     },
     "execution_count": 18,
     "metadata": {},
     "output_type": "execute_result"
    }
   ],
   "source": [
    "neigh = KNeighborsClassifier(n_neighbors=5)\n",
    "neigh.fit(data, label)"
   ]
  },
  {
   "cell_type": "code",
   "execution_count": 22,
   "metadata": {},
   "outputs": [
    {
     "data": {
      "text/plain": [
       "array([0, 1])"
      ]
     },
     "execution_count": 22,
     "metadata": {},
     "output_type": "execute_result"
    }
   ],
   "source": [
    "neigh.predict(test)"
   ]
  }
 ],
 "metadata": {
  "kernelspec": {
   "display_name": "Python 3",
   "language": "python",
   "name": "python3"
  },
  "language_info": {
   "codemirror_mode": {
    "name": "ipython",
    "version": 3
   },
   "file_extension": ".py",
   "mimetype": "text/x-python",
   "name": "python",
   "nbconvert_exporter": "python",
   "pygments_lexer": "ipython3",
   "version": "3.8.5"
  }
 },
 "nbformat": 4,
 "nbformat_minor": 4
}
